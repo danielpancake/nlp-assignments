{
 "cells": [
  {
   "cell_type": "markdown",
   "metadata": {},
   "source": [
    "# ~~Nested~~ NER with dictionary\n",
    "\n",
    "This notebook has a dictionary approach to NER. The task is reduced to a flat NER tagging for a minimal baseline."
   ]
  },
  {
   "cell_type": "markdown",
   "metadata": {},
   "source": [
    "## Imports"
   ]
  },
  {
   "cell_type": "code",
   "execution_count": 1,
   "metadata": {},
   "outputs": [],
   "source": [
    "%pip install razdel"
   ]
  },
  {
   "cell_type": "code",
   "execution_count": 2,
   "metadata": {},
   "outputs": [],
   "source": [
    "import json\n",
    "import os\n",
    "\n",
    "from collections import Counter, defaultdict\n",
    "from typing import Iterator\n",
    "\n",
    "from razdel import tokenize"
   ]
  },
  {
   "cell_type": "markdown",
   "metadata": {},
   "source": [
    "## Constants"
   ]
  },
  {
   "cell_type": "code",
   "execution_count": 3,
   "metadata": {},
   "outputs": [],
   "source": [
    "DATA_PATH = \"../../data/\"\n",
    "OUT_PATH = \"../../out/dict/\"\n",
    "\n",
    "TRAIN_DATA = os.path.join(DATA_PATH, \"jsonl/train.jsonl\")\n",
    "TEST_DATA = os.path.join(DATA_PATH, \"jsonl/test.jsonl\")\n",
    "\n",
    "SUBMIT_PATH = os.path.join(OUT_PATH, \"test.jsonl\")"
   ]
  },
  {
   "cell_type": "markdown",
   "metadata": {},
   "source": [
    "## Utils"
   ]
  },
  {
   "cell_type": "code",
   "execution_count": 4,
   "metadata": {},
   "outputs": [],
   "source": [
    "def read_jsonl(file_path: str) -> Iterator[dict]:\n",
    "    \"\"\"Reads a file in jsonl format\"\"\"\n",
    "    with open(file_path, \"r\", encoding=\"utf-8\") as f:\n",
    "        for line in f:\n",
    "            yield json.loads(line)\n",
    "\n",
    "def write_jsonl(file_path: str, data: Iterator[dict]):\n",
    "    \"\"\"Writes data to a file in jsonl format\"\"\"\n",
    "    with open(file_path, \"w\", encoding=\"utf-8\") as f:\n",
    "        for line in data:\n",
    "            f.write(json.dumps(line, ensure_ascii=False) + \"\\n\")"
   ]
  },
  {
   "cell_type": "markdown",
   "metadata": {},
   "source": [
    "## Model training\n",
    "\n",
    "The dictionary is created using the training data. Every token is stored with the collection of labels it is associated with."
   ]
  },
  {
   "cell_type": "code",
   "execution_count": 5,
   "metadata": {},
   "outputs": [],
   "source": [
    "model = defaultdict(Counter)\n",
    "\n",
    "for sample in read_jsonl(TRAIN_DATA):\n",
    "    for beg, end, label in sample[\"ners\"]:\n",
    "        token = sample[\"sentences\"][beg : end + 1]\n",
    "        model[token][label] += 1"
   ]
  },
  {
   "cell_type": "markdown",
   "metadata": {},
   "source": [
    "## Inference\n",
    "\n",
    "Inference is done by choosing the most common label for each token. If a token is not found in the dictionary, it is skipped."
   ]
  },
  {
   "cell_type": "code",
   "execution_count": 6,
   "metadata": {},
   "outputs": [],
   "source": [
    "predictions = []\n",
    "\n",
    "for sample in read_jsonl(TEST_DATA):\n",
    "    tokens = list(tokenize(sample[\"sentences\"]))\n",
    "    ners = []\n",
    "\n",
    "    for beg, end, text in tokens:\n",
    "        if text in model:\n",
    "            label = model[text].most_common(1)[0][0]\n",
    "            ners.append([beg, end - 1, label])\n",
    "\n",
    "    predictions.append({\"id\": sample[\"id\"], \"ners\": ners})"
   ]
  },
  {
   "cell_type": "markdown",
   "metadata": {},
   "source": [
    "## Submission"
   ]
  },
  {
   "cell_type": "code",
   "execution_count": 7,
   "metadata": {},
   "outputs": [
    {
     "name": "stdout",
     "output_type": "stream",
     "text": [
      "Done! Predictions are saved to ../../out/dict/test.jsonl\n"
     ]
    }
   ],
   "source": [
    "os.makedirs(OUT_PATH, exist_ok=True)\n",
    "write_jsonl(SUBMIT_PATH, predictions)\n",
    "\n",
    "print(\"Done! Predictions are saved to\", SUBMIT_PATH)"
   ]
  }
 ],
 "metadata": {
  "kernelspec": {
   "display_name": ".venv",
   "language": "python",
   "name": "python3"
  },
  "language_info": {
   "codemirror_mode": {
    "name": "ipython",
    "version": 3
   },
   "file_extension": ".py",
   "mimetype": "text/x-python",
   "name": "python",
   "nbconvert_exporter": "python",
   "pygments_lexer": "ipython3",
   "version": "3.11.6"
  }
 },
 "nbformat": 4,
 "nbformat_minor": 2
}
