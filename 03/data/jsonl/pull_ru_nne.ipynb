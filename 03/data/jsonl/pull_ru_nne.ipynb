{
 "cells": [
  {
   "cell_type": "code",
   "execution_count": 34,
   "metadata": {},
   "outputs": [],
   "source": [
    "import json\n",
    "\n",
    "from typing import Iterator\n",
    "\n",
    "from datasets import load_dataset"
   ]
  },
  {
   "cell_type": "code",
   "execution_count": 35,
   "metadata": {},
   "outputs": [],
   "source": [
    "def read_jsonl(file_path: str) -> Iterator[dict]:\n",
    "    \"\"\"Reads a file in jsonl format\"\"\"\n",
    "    with open(file_path, \"r\", encoding=\"utf-8\") as f:\n",
    "        for line in f:\n",
    "            yield json.loads(line)\n",
    "\n",
    "\n",
    "def write_jsonl(file_path: str, data: Iterator[dict]):\n",
    "    \"\"\"Writes data to a file in jsonl format\"\"\"\n",
    "    with open(file_path, \"w\", encoding=\"utf-8\") as f:\n",
    "        for line in data:\n",
    "            f.write(json.dumps(line, ensure_ascii=False) + \"\\n\")"
   ]
  },
  {
   "cell_type": "code",
   "execution_count": 36,
   "metadata": {},
   "outputs": [],
   "source": [
    "dataset = load_dataset(\"iluvvatar/RuNNE\")"
   ]
  },
  {
   "cell_type": "code",
   "execution_count": 37,
   "metadata": {},
   "outputs": [],
   "source": [
    "dataset_text = dataset[\"train\"][\"text\"] + dataset[\"test\"][\"text\"]\n",
    "dataset_entities = dataset[\"train\"][\"entities\"] + dataset[\"test\"][\"entities\"]\n",
    "\n",
    "# Process dataset_entities\n",
    "processed_dataset_entities = []\n",
    "\n",
    "for entities in dataset_entities:\n",
    "    ners = []\n",
    "\n",
    "    for ner in entities:\n",
    "        beg, end, label = ner.split()\n",
    "        ners.append([int(beg), int(end), label])\n",
    "\n",
    "    processed_dataset_entities.append(ners)\n",
    "\n",
    "dataset_entities = processed_dataset_entities"
   ]
  },
  {
   "cell_type": "code",
   "execution_count": 38,
   "metadata": {},
   "outputs": [],
   "source": [
    "# Merge with train dataset\n",
    "TEXT_HEAD_LENGTH = 16\n",
    "\n",
    "dataset_text_heads = [text[:TEXT_HEAD_LENGTH] for text in dataset_text]\n",
    "\n",
    "for sample in read_jsonl(\"train_sm.jsonl\"):\n",
    "    if sample[\"sentences\"][:TEXT_HEAD_LENGTH] not in dataset_text_heads:\n",
    "        dataset_text.append(sample[\"sentences\"])\n",
    "        dataset_entities.append(sample[\"ners\"])"
   ]
  },
  {
   "cell_type": "code",
   "execution_count": 39,
   "metadata": {},
   "outputs": [],
   "source": [
    "processed_data = []\n",
    "\n",
    "for text, entities in zip(dataset_text, dataset_entities):\n",
    "    processed_data.append({\"sentences\": text, \"ners\": entities})"
   ]
  },
  {
   "cell_type": "code",
   "execution_count": 40,
   "metadata": {},
   "outputs": [],
   "source": [
    "write_jsonl(\"train.jsonl\", processed_data)"
   ]
  }
 ],
 "metadata": {
  "kernelspec": {
   "display_name": ".venv",
   "language": "python",
   "name": "python3"
  },
  "language_info": {
   "codemirror_mode": {
    "name": "ipython",
    "version": 3
   },
   "file_extension": ".py",
   "mimetype": "text/x-python",
   "name": "python",
   "nbconvert_exporter": "python",
   "pygments_lexer": "ipython3",
   "version": "3.11.6"
  }
 },
 "nbformat": 4,
 "nbformat_minor": 2
}
