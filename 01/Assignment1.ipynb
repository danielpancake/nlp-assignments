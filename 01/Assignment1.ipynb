{
  "cells": [
    {
      "cell_type": "markdown",
      "metadata": {
        "id": "RKboZnAdgrRM"
      },
      "source": [
        "# [NLP] Assignment 1: Tokenization\n",
        "\n",
        "In this assignment, you need to tokenize the text of the Twitter(X) users posts(tweets). The assignment consists of two tasks. When you finish all the tasks, create a GitHub repository for this assignment (you can use this repo later for the other assignments) and submit this notebook in the repository. Leave `requirements.txt` file if your code requires additional installations. Submit the link to the repository in Moodle.\n",
        "\n",
        "The [data](https://drive.google.com/file/d/15x_wPAflvYQ2Xh38iNQGrqUIWLj5l5Nw/view?usp=share_link) contains 5 files whereby each contains 44 tweets. Each tweet is separated by a newline."
      ]
    },
    {
      "cell_type": "markdown",
      "metadata": {
        "id": "aLDjjAvemUP_"
      },
      "source": [
        "## Task 1. Tokenize some tweets manually (20 points)\n",
        "\n",
        "As a first task you need to tokenize first 15 tweets from `file2` by hand. This will allow you to understand the problem from a linguistic point of view. The guidelines for tweet tokenization are as follows:\n",
        "\n",
        "- Each smiley is a separate token\n",
        "- Each hashtag is an individual token. Each user reference is an individual token\n",
        "- If a word has spaces between them then it is converted to a single token\n",
        "- All punctuations are individual tokens. This includes double-quotes and single quotes also\n",
        "- A URL is a single token\n",
        "\n",
        "Example of output\n",
        "\n",
        "    Input tweet\n",
        "    @xfranman Old age has made N A T O!\n",
        "\n",
        "    Tokenized tweet (separated by comma)\n",
        "    @xfranman , Old , age , has , made , NATO , !"
      ]
    },
    {
      "cell_type": "markdown",
      "metadata": {
        "id": "7KKKwTidnzUw"
      },
      "source": [
        "\n",
        "    1. Input tweet\n",
        "    ...\n",
        "    1. Tokenized tweet\n",
        "    ...\n",
        "\n",
        "    2. Input tweet\n",
        "    ...\n",
        "    2. Tokenized tweet\n",
        "    ..."
      ]
    },
    {
      "cell_type": "markdown",
      "metadata": {},
      "source": [
        "1. Camping in Maine for the weekend. Hey Dad, Mama Loves YOU: http://www.mamapalooza.com\n",
        "1. Camping , in , Maine , for , the , weekend , . , Hey , Dad , , , Mama , Loves , YOU , : , http://www.mamapalooza.com\n",
        "\n",
        "2. Its american tradition bitch\n",
        "2. Its , ametican , tradition , bitch\n",
        "\n",
        "3. @ThroughTheVoid They love it! The only pleasure they get in life. I actually do that. I'm sure I hear a tiny squeak... Then louder ones\n",
        "3. @ThroughTheVoid , They , love , it , ! , The , only , pleasure , they , get , in , life , . , I , actually , do , that , . , I , ' , m , sure , I , hear , a , tiny , squeak , . , . , . , Then , louder , ones\n",
        "\n",
        "4. \" RT @latti: @AbsoHilare stop tweeting in church! Lol <--- \"\"I tweet because I'm happy, I tweet because I'm free\"\" LOL!\"\n",
        "4. \" , RT , @latti , : , @AbsoHilare , stop , tweeting , in , church , ! , Lol , < , - , - , - , \" , \" , I , tweet , because , I , ' , m , happy , , , I , tweet , because , I , ' , m , free , \" , \" , LOL , ! , \"\n",
        "\n",
        "5. Samsung Mini S2 portable HDD graced with colors that perfectly match your tacky beach gear: Sammy's done it aga.. http://tinyurl.com/lb5p6m\n",
        "5. Samsung , Mini , S2 , portable , HDD , graced , with , colors , that , perfectly , match , your , tacky , beach , gear , : , Sammy , ' , s , done , it , aga , . , . , http://tinyurl.com/lb5p6m\n",
        "\n",
        "6. @dialloc congrats on finding your way over. it may be slow going at first. hang in there. it's kinda cool when u get up to speed.\n",
        "6. @dialloc , congrats , on , finding , your , way , over , . , it , may , be , slow , going , at , first , . , hang , in , there , . , it , ' , s , kinda , cool , when , u , get , up , to , speed , .\n",
        "\n",
        "7. iPhone activation delays continue, Apple offers $30 http://twt.gs/l3Ki\n",
        "7. iPhone , activation , delays , continue , , , Apple , offers , $30 , http://twt.gs/l3Ki\n",
        "\n",
        "8. RT @GoogleAtWork Gmail maximum attachment size now 25MB http://bit.ly/62mjw Nice!!!\n",
        "8. RT , @GoogleAtWork , Gmail , maximum , attachment , size , now , 25MB , http://bit.ly/62mjw , Nice , ! , ! , !\n",
        "\n",
        "9. RT @acfou The Ads Won Awards for Crispin; But Did Nothing for Client BurgerKing's Sales/Marketshare - Big Surprise - http://ping.fm/vw8TI\n",
        "9. RT , @acfou , The , Ads , Won , Awards , for , Crispin , ; , But , Did , Nothing , for , Client , BurgerKing , ' , s , Sales/Marketshare , - , Big , Surprise , - , http://ping.fm/vw8TI\n",
        "\n",
        "10. Hey doll! Great I missed True Blood yday boo lol Rt @FrankBanuat78 @jhillstephens Hello Sunshine how are u today? :-)\n",
        "10. Hey , doll , ! , Great , I , missed , True , Blood , yday , boo , lol , Rt , @FrankBanuat78 , @jhillstephens , Hello , Sunshine , how , are , u , today , ? , :-)\n",
        "\n",
        "11. Australian artist Pogo made these free songs primarily from sampled audio from Alice In Wonderland. http://www.last.fm/music/Pogo/Wonderland\n",
        "11. Australian , artist , Pogo , made , these , free , songs , primarily , from , sampled , audio , from , Alice , In , Wonderland , . , http://www.last.fm/music/Pogo/Wonderland\n",
        "\n",
        "12. @mppritchard they wanted to sell all the preorders & then sell all of the ones they had in stock to those that just walked in. Can't do both\n",
        "12. @mppritchard , they , wanted , to , sell , all , the , preorders , & , then , sell , all , of , the , ones , they , had , in , stock , to , those , that , just , walked , in , . , Can , ' , t , do , both\n",
        "\n",
        "13. Incoming: Frightened Rabbit, Sept. 22 (Tucson): If Fat Cat Records is going to send three great bands from Scot.. http://tinyurl.com/nz6xcv\n",
        "13. Incoming , : , Frightened , Rabbit , , , Sept , . , 22 , ( , Tucson , ) , : , If , Fat , Cat , Records , is , going , to , send , three , great , bands , from , Scot , . , . , http://tinyurl.com/nz6xcv\n",
        "\n",
        "14. Hey @ginoandfran please greet philip! (GinoandFran live > http://ustre.am/2YyQ)\n",
        "14. Hey , @ginoandfran , please , greet , philip , ! , ( , GinoandFran , live , > , http://ustre.am/2YyQ , )\n",
        "\n",
        "15. Ik weet niet wie er achter de T-Mobile iPhone Twitter zit maar ik vind het niet echt 'corporate' taalgebruik... Best vreemd eigenlijk\n",
        "15. Ik , weet , niet , wie , er , achter , de , T , - , Mobile , iPhone , Twitter , zit , maar , ik , vind , het , niet , echt , ' , corporate , ' , taalgebruik , . , . , . , Best , vreemd , eigenlijk"
      ]
    },
    {
      "cell_type": "markdown",
      "metadata": {
        "id": "-2J2AD2nmUhi"
      },
      "source": [
        "## Task 2. Implement [Byte-Pair Encoding(BPE)](https://arxiv.org/pdf/1508.07909.pdf) Tokenizer (80 points)\n",
        "\n",
        "### Task 2.1. Implementation (60 points)\n",
        "\n",
        "Implement the tokenizer as the BPETokenizer class:\n",
        "* Implement `train` method that learns merges and builds the vocabulary of the specified `vocab_size` (25 points).\n",
        "* Implement `tokenize` method that should tokenize the text according to the learnt merges (25 points).\n",
        "\n",
        "Your code should have docstrings and comments (10 points)."
      ]
    },
    {
      "cell_type": "code",
      "execution_count": 178,
      "metadata": {},
      "outputs": [],
      "source": [
        "import re, collections"
      ]
    },
    {
      "cell_type": "code",
      "execution_count": 179,
      "metadata": {},
      "outputs": [],
      "source": [
        "from typing import List\n",
        "\n",
        "\n",
        "def generate_corpus(data: List[str]) -> collections.defaultdict:\n",
        "    \"\"\"\n",
        "    Generate a corpus from a list of strings\n",
        "\n",
        "    Args:\n",
        "    data: List of strings\n",
        "\n",
        "    Returns:\n",
        "    corpus: A dictionary with the frequency of each word\n",
        "    \"\"\"\n",
        "    corpus = collections.defaultdict(int)\n",
        "    for line in data:\n",
        "        words = line.split()\n",
        "        for word in words:\n",
        "            corpus[' '.join(word) + ' </w>'] += 1\n",
        "    return corpus\n",
        "\n",
        "\n",
        "class BPETokenizer:\n",
        "\n",
        "    def __init__(self, vocab_size: int) -> None:\n",
        "        self.vocab = None\n",
        "        self.vocab_size = vocab_size\n",
        "\n",
        "    def train(self, corpus: collections.defaultdict, verbose: bool = False) -> None:\n",
        "        corpus_vocab = {}\n",
        "        for word, freq in corpus.items():\n",
        "            corpus_vocab[word] = freq\n",
        "\n",
        "        # Vocab is a dictionary with tokens\n",
        "        self.vocab = set()\n",
        "        \n",
        "        for word in corpus_vocab:\n",
        "            for symbol in word.split():\n",
        "                self.vocab.add(symbol)\n",
        "\n",
        "        # Merge pairs until vocab size is reached\n",
        "        i = 0\n",
        "        while len(self.vocab) < self.vocab_size:\n",
        "            pairs = self.get_stats(corpus_vocab)\n",
        "            if not pairs:\n",
        "                if verbose:\n",
        "                    print(f'No pairs found. Vocab size: {len(self.vocab)}')\n",
        "                break\n",
        "\n",
        "            # Add new token to vocab\n",
        "            best = max(pairs, key=pairs.get)\n",
        "            self.vocab.add(''.join(best))\n",
        "\n",
        "            # Merge best pair in corpus_vocab\n",
        "            corpus_vocab = self.merge_vocab(best, corpus_vocab)\n",
        "\n",
        "            if verbose:\n",
        "                print(f'iteration: {i} best pair: {best} vocab: {self.vocab}')\n",
        "                i += 1\n",
        "\n",
        "        # Add empty line for readability\n",
        "        if verbose:\n",
        "            print()\n",
        "\n",
        "    def tokenize(self, text: str) -> List[str]:\n",
        "        tokens = []\n",
        "\n",
        "        for word in text.split():\n",
        "            word = word + '</w>'\n",
        "            word_tokens = []\n",
        "\n",
        "            while word:\n",
        "                for i in range(len(word)):\n",
        "                    if word[:len(word) - i] in self.vocab:\n",
        "                        word_tokens.append(word[:len(word) - i])\n",
        "                        word = word[len(word) - i:]\n",
        "                        break\n",
        "                    else :\n",
        "                        if i == len(word) - 1:\n",
        "                            word_tokens.append(word[:1])\n",
        "                            word = word[1:]\n",
        "                            break\n",
        "\n",
        "            tokens.extend(word_tokens)\n",
        "        return tokens\n",
        "\n",
        "    def get_stats(self, vocab: List[str]) -> collections.defaultdict:\n",
        "        pairs = collections.defaultdict(int)\n",
        "        for word, freq in vocab.items():\n",
        "            symbols = word.split()\n",
        "            for i in range(len(symbols) - 1):\n",
        "                pairs[symbols[i], symbols[i + 1]] += freq\n",
        "        return pairs\n",
        "    \n",
        "    def merge_vocab(self, pair: tuple, v_in: List[str]) -> List[str]:\n",
        "        v_out = {}\n",
        "        bigram = re.escape(' '.join(pair))\n",
        "        p = re.compile(r'(?<!\\S)' + bigram + r'(?!\\S)')\n",
        "        for word in v_in:\n",
        "            w_out = p.sub(r''.join(pair), word)\n",
        "            v_out[w_out] = v_in[word]\n",
        "        return v_out"
      ]
    },
    {
      "cell_type": "code",
      "execution_count": 187,
      "metadata": {},
      "outputs": [
        {
          "name": "stdout",
          "output_type": "stream",
          "text": [
            "iteration: 0 best pair: ('e', 'r') vocab: {'w', 'l', 'er', 'd', 'o', 's', 'r', 'n', '</w>', 'e', 't', 'i'}\n",
            "iteration: 1 best pair: ('er', '</w>') vocab: {'w', 'l', 'er', 'er</w>', 'd', 'o', 's', 'r', 'n', '</w>', 'e', 't', 'i'}\n",
            "iteration: 2 best pair: ('n', 'e') vocab: {'ne', 'w', 'l', 'er', 'er</w>', 'd', 'o', 's', 'r', 'n', '</w>', 'e', 't', 'i'}\n",
            "iteration: 3 best pair: ('ne', 'w') vocab: {'ne', 'w', 'l', 'er', 'er</w>', 'd', 'o', 's', 'r', 'n', '</w>', 'e', 'new', 't', 'i'}\n",
            "iteration: 4 best pair: ('l', 'o') vocab: {'ne', 'w', 'l', 'er', 'er</w>', 'd', 'o', 's', 'r', 'n', '</w>', 'e', 'new', 't', 'i', 'lo'}\n",
            "iteration: 5 best pair: ('lo', 'w') vocab: {'ne', 'w', 'l', 'low', 'er', 'er</w>', 'd', 'o', 's', 'r', 'n', '</w>', 'e', 'new', 't', 'i', 'lo'}\n",
            "iteration: 6 best pair: ('new', 'er</w>') vocab: {'newer</w>', 'ne', 'w', 'l', 'low', 'er', 'er</w>', 'd', 'o', 's', 'r', 'n', '</w>', 'e', 'new', 't', 'i', 'lo'}\n",
            "iteration: 7 best pair: ('low', '</w>') vocab: {'w', 'low', 'n', '</w>', 'e', 'i', 'newer</w>', 'l', 'o', 'r', 'er', 'er</w>', 'd', 't', 'ne', 's', 'low</w>', 'new', 'lo'}\n",
            "iteration: 8 best pair: ('w', 'i') vocab: {'w', 'low', 'n', '</w>', 'e', 'i', 'newer</w>', 'l', 'o', 'r', 'er', 'er</w>', 'd', 'wi', 't', 'ne', 's', 'low</w>', 'new', 'lo'}\n",
            "iteration: 9 best pair: ('wi', 'd') vocab: {'w', 'low', 'n', '</w>', 'e', 'i', 'newer</w>', 'l', 'o', 'r', 'er', 'er</w>', 'd', 'wi', 't', 'ne', 's', 'wid', 'low</w>', 'new', 'lo'}\n",
            "iteration: 10 best pair: ('wid', 'er</w>') vocab: {'w', 'low', 'n', '</w>', 'e', 'i', 'newer</w>', 'l', 'wider</w>', 'o', 'r', 'er', 'er</w>', 'd', 'wi', 't', 'ne', 's', 'wid', 'low</w>', 'new', 'lo'}\n",
            "iteration: 11 best pair: ('low', 'e') vocab: {'w', 'low', 'n', '</w>', 'e', 'i', 'newer</w>', 'l', 'wider</w>', 'o', 'r', 'lowe', 'er', 'er</w>', 'd', 'wi', 't', 'ne', 's', 'wid', 'low</w>', 'new', 'lo'}\n",
            "iteration: 12 best pair: ('lowe', 's') vocab: {'w', 'low', 'n', '</w>', 'e', 'i', 'newer</w>', 'l', 'wider</w>', 'o', 'r', 'lowe', 'er', 'er</w>', 'd', 'wi', 't', 'ne', 'lowes', 's', 'wid', 'low</w>', 'new', 'lo'}\n",
            "iteration: 13 best pair: ('lowes', 't') vocab: {'w', 'low', 'n', '</w>', 'e', 'i', 'newer</w>', 'l', 'wider</w>', 'o', 'r', 'lowest', 'lowe', 'er', 'er</w>', 'd', 'wi', 't', 'ne', 'lowes', 's', 'wid', 'low</w>', 'new', 'lo'}\n",
            "iteration: 14 best pair: ('lowest', '</w>') vocab: {'w', 'low', 'n', '</w>', 'e', 'i', 'newer</w>', 'l', 'wider</w>', 'lowest</w>', 'o', 'r', 'lowest', 'lowe', 'er', 'er</w>', 'd', 'wi', 't', 'ne', 'lowes', 's', 'wid', 'low</w>', 'new', 'lo'}\n",
            "iteration: 15 best pair: ('new', '</w>') vocab: {'w', 'low', 'n', '</w>', 'e', 'i', 'newer</w>', 'l', 'wider</w>', 'lowest</w>', 'o', 'r', 'lowest', 'new</w>', 'lowe', 'er', 'er</w>', 'd', 'wi', 't', 'ne', 'lowes', 's', 'wid', 'low</w>', 'new', 'lo'}\n",
            "No pairs found. Vocab size: 27\n",
            "\n",
            "Final vocab: {'w', 'low', 'n', '</w>', 'e', 'i', 'newer</w>', 'l', 'wider</w>', 'lowest</w>', 'o', 'r', 'lowest', 'new</w>', 'lowe', 'er', 'er</w>', 'd', 'wi', 't', 'ne', 'lowes', 's', 'wid', 'low</w>', 'new', 'lo'}\n"
          ]
        }
      ],
      "source": [
        "data = [\"low low low low low lowest lowest newer newer newer newer newer newer wider wider wider new new\"]\n",
        "corpus = generate_corpus(data)\n",
        "\n",
        "bpe = BPETokenizer(100)\n",
        "bpe.train(corpus, verbose=True)\n",
        "\n",
        "print(f'Final vocab: {bpe.vocab}')"
      ]
    },
    {
      "cell_type": "code",
      "execution_count": 188,
      "metadata": {},
      "outputs": [
        {
          "name": "stdout",
          "output_type": "stream",
          "text": [
            "['low</w>', 'lowe', 'r', '</w>', 'new', 'e', 's', 't', '</w>', 'wider</w>']\n"
          ]
        }
      ],
      "source": [
        "# Test example\n",
        "print(bpe.tokenize(\"low lower newest wider\"))"
      ]
    },
    {
      "cell_type": "markdown",
      "metadata": {},
      "source": [
        "### Task 2.2. Analysis on Tweets Dataset (10 points)\n",
        "\n",
        "Train the BPE tokenizer on the tweets dataset. Try to tokenize the tweets with the tokenizer of different `vocab_size`. For example, train the BPE tokenizer with `vocab_size` of [base_vocab_size, 250, 500, 750, 1000]. Plot the dependency of the average length of the tokenized tweet by `vocab_size` to analyze how `vocab_size` affects the length of the tokenized tweet on average. Tell what `vocab_size` is preferrable and why."
      ]
    },
    {
      "cell_type": "code",
      "execution_count": 193,
      "metadata": {},
      "outputs": [
        {
          "name": "stdout",
          "output_type": "stream",
          "text": [
            "Number of tweets: 220\n"
          ]
        }
      ],
      "source": [
        "# Read the files with tweets\n",
        "tweets = []\n",
        "\n",
        "for idx in range(1, 6):\n",
        "    with open(f'file{idx}', 'r', encoding='utf8') as f:\n",
        "        tweets.extend(f.read().splitlines())\n",
        "\n",
        "print(f'Number of tweets: {len(tweets)}')"
      ]
    },
    {
      "cell_type": "code",
      "execution_count": 194,
      "metadata": {},
      "outputs": [],
      "source": [
        "tweets_corpus = generate_corpus(tweets)"
      ]
    },
    {
      "cell_type": "code",
      "execution_count": 205,
      "metadata": {},
      "outputs": [
        {
          "name": "stdout",
          "output_type": "stream",
          "text": [
            "=== Vocab size: 100 ===\n",
            "Number of vocab tokens: 167\n",
            "Avg. token length: 1.45\n",
            "Avg. tokenized tweet length: 98.29\n",
            "\n",
            "=== Vocab size: 250 ===\n",
            "Number of vocab tokens: 250\n",
            "Avg. token length: 2.17\n",
            "Avg. tokenized tweet length: 65.75\n",
            "\n",
            "=== Vocab size: 500 ===\n",
            "Number of vocab tokens: 500\n",
            "Avg. token length: 2.83\n",
            "Avg. tokenized tweet length: 50.35\n",
            "\n",
            "=== Vocab size: 750 ===\n",
            "Number of vocab tokens: 750\n",
            "Avg. token length: 3.18\n",
            "Avg. tokenized tweet length: 44.85\n",
            "\n",
            "=== Vocab size: 1000 ===\n",
            "Number of vocab tokens: 1000\n",
            "Avg. token length: 3.46\n",
            "Avg. tokenized tweet length: 41.26\n",
            "\n"
          ]
        }
      ],
      "source": [
        "avg_tokenized_tweet_lens = []\n",
        "\n",
        "vocab_sizes = [100, 250, 500, 750, 1000]\n",
        "\n",
        "for vocab_size in vocab_sizes:\n",
        "    bpe = BPETokenizer(vocab_size)\n",
        "    bpe.train(tweets_corpus)\n",
        "    print(f'=== Vocab size: {vocab_size} ===')\n",
        "\n",
        "    # Tokenize all tweets\n",
        "    tokens = []\n",
        "    for tweet in tweets:\n",
        "        tokens.extend(bpe.tokenize(tweet))\n",
        "\n",
        "    print(f'Number of vocab tokens: {len(bpe.vocab)}')\n",
        "\n",
        "    avg_token_len = sum([len(token) for token in tokens]) / len(tokens)\n",
        "    avg_tokenized_tweet_len = sum([len(bpe.tokenize(tweet)) for tweet in tweets]) / len(tweets)\n",
        "\n",
        "    avg_tokenized_tweet_lens.append(avg_tokenized_tweet_len)\n",
        "\n",
        "    print(f'Avg. token length: {avg_token_len:.2f}')\n",
        "    print(f'Avg. tokenized tweet length: {avg_tokenized_tweet_len:.2f}')\n",
        "    print()"
      ]
    },
    {
      "cell_type": "code",
      "execution_count": 206,
      "metadata": {},
      "outputs": [
        {
          "data": {
            "image/png": "[encoded data removed]",
            "text/plain": [
              "<Figure size 640x480 with 1 Axes>"
            ]
          },
          "metadata": {},
          "output_type": "display_data"
        }
      ],
      "source": [
        "# Plot the dependency between vocab size and avg. tokenized tweet length\n",
        "import matplotlib.pyplot as plt\n",
        "\n",
        "plt.plot(vocab_sizes, avg_tokenized_tweet_lens)\n",
        "plt.xlabel('Vocab size')\n",
        "plt.ylabel('Avg. tokenized tweet length')\n",
        "plt.show()"
      ]
    },
    {
      "cell_type": "markdown",
      "metadata": {},
      "source": [
        "### Task 2.3. Analysis on Dataset of Different Language (10 points)\n",
        "\n",
        "Find a small dataset of texts in a language other than English. The dataset size should be not greater than several megabytes.\n",
        "\n",
        "Train the BPE tokenizer on the dataset that you found. Try to tokenize the sentences from this dataset with the tokenizer of different `vocab_size`. Plot the dependency of the average length of the tokenized sentence by `vocab_size` to analyze how `vocab_size` affects the length of the tokenized sentence on average.\n",
        "\n",
        "Tell how how the average length of the tokenized sentence differs from the average length of the tokenized tweet. Explain why. "
      ]
    },
    {
      "cell_type": "code",
      "execution_count": 211,
      "metadata": {},
      "outputs": [],
      "source": [
        "# === Acknowledgements ===\n",
        "# Dataset used: https://www.kaggle.com/datasets/mksaad/arabic-sentiment-twitter-corpus\n",
        "\n",
        "dataset = []\n",
        "\n",
        "with open('test_Arabic_tweets_positive_20190413.txt', 'r', encoding='utf8') as f:\n",
        "    dataset.extend(f.read().splitlines())\n",
        "\n",
        "dataset = dataset[:200]"
      ]
    },
    {
      "cell_type": "code",
      "execution_count": 212,
      "metadata": {},
      "outputs": [],
      "source": [
        "arabic_tweets_corpus = generate_corpus(dataset)"
      ]
    },
    {
      "cell_type": "code",
      "execution_count": 213,
      "metadata": {},
      "outputs": [
        {
          "name": "stdout",
          "output_type": "stream",
          "text": [
            "=== Vocab size: 100 ===\n",
            "Number of vocab tokens: 234\n",
            "Avg. token length: 1.45\n",
            "Avg. tokenized tweet length: 98.29\n",
            "\n",
            "=== Vocab size: 250 ===\n",
            "Number of vocab tokens: 250\n",
            "Avg. token length: 1.45\n",
            "Avg. tokenized tweet length: 98.29\n",
            "\n",
            "=== Vocab size: 500 ===\n",
            "Number of vocab tokens: 500\n",
            "Avg. token length: 1.48\n",
            "Avg. tokenized tweet length: 96.54\n",
            "\n",
            "=== Vocab size: 750 ===\n",
            "Number of vocab tokens: 750\n",
            "Avg. token length: 1.49\n",
            "Avg. tokenized tweet length: 95.85\n",
            "\n",
            "=== Vocab size: 1000 ===\n",
            "Number of vocab tokens: 1000\n",
            "Avg. token length: 1.51\n",
            "Avg. tokenized tweet length: 94.51\n",
            "\n"
          ]
        }
      ],
      "source": [
        "for vocab_size in vocab_sizes:\n",
        "    bpe = BPETokenizer(vocab_size)\n",
        "    bpe.train(arabic_tweets_corpus)\n",
        "    print(f'=== Vocab size: {vocab_size} ===')\n",
        "\n",
        "    # Tokenize all tweets\n",
        "    tokens = []\n",
        "    for tweet in tweets:\n",
        "        tokens.extend(bpe.tokenize(tweet))\n",
        "\n",
        "    print(f'Number of vocab tokens: {len(bpe.vocab)}')\n",
        "\n",
        "    avg_token_len = sum([len(token) for token in tokens]) / len(tokens)\n",
        "    avg_tokenized_tweet_len = sum([len(bpe.tokenize(tweet)) for tweet in tweets]) / len(tweets)\n",
        "\n",
        "    avg_tokenized_tweet_lens.append(avg_tokenized_tweet_len)\n",
        "\n",
        "    print(f'Avg. token length: {avg_token_len:.2f}')\n",
        "    print(f'Avg. tokenized tweet length: {avg_tokenized_tweet_len:.2f}')\n",
        "    print()"
      ]
    },
    {
      "cell_type": "code",
      "execution_count": null,
      "metadata": {},
      "outputs": [],
      "source": []
    }
  ],
  "metadata": {
    "colab": {
      "provenance": [],
      "toc_visible": true
    },
    "kernelspec": {
      "display_name": "Python 3",
      "name": "python3"
    },
    "language_info": {
      "codemirror_mode": {
        "name": "ipython",
        "version": 3
      },
      "file_extension": ".py",
      "mimetype": "text/x-python",
      "name": "python",
      "nbconvert_exporter": "python",
      "pygments_lexer": "ipython3",
      "version": "3.11.6"
    }
  },
  "nbformat": 4,
  "nbformat_minor": 0
}
